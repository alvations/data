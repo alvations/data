{
 "cells": [
  {
   "cell_type": "code",
   "execution_count": 16,
   "metadata": {},
   "outputs": [],
   "source": [
    "import io\n",
    "import json\n",
    "import os\n",
    "\n",
    "import xml.etree.cElementTree as ET\n",
    "\n",
    "import pandas as pd\n",
    "\n",
    "import nltk"
   ]
  },
  {
   "cell_type": "code",
   "execution_count": 7,
   "metadata": {},
   "outputs": [],
   "source": [
    "old_nltk_data = nltk.data.path[0]\n",
    "\n",
    "new_nltk_data = \"packages/\""
   ]
  },
  {
   "cell_type": "markdown",
   "metadata": {},
   "source": [
    "# ABC Corpus\n"
   ]
  },
  {
   "cell_type": "code",
   "execution_count": 18,
   "metadata": {},
   "outputs": [
    {
     "ename": "SyntaxError",
     "evalue": "invalid syntax (<ipython-input-18-13300f68fdf2>, line 29)",
     "output_type": "error",
     "traceback": [
      "\u001b[0;36m  File \u001b[0;32m\"<ipython-input-18-13300f68fdf2>\"\u001b[0;36m, line \u001b[0;32m29\u001b[0m\n\u001b[0;31m    'webpage'=\"http://www.abc.net.au/\", 'author'=\"Australian Broadcasting Commission\",\u001b[0m\n\u001b[0m             ^\u001b[0m\n\u001b[0;31mSyntaxError\u001b[0m\u001b[0;31m:\u001b[0m invalid syntax\n"
     ]
    }
   ],
   "source": [
    "# ABC corpus.\n",
    "directory = new_nltk_data+'/corpora/abc/'\n",
    "if not os.path.exists(directory):\n",
    "    os.makedirs(directory)\n",
    "\n",
    "with io.open(old_nltk_data+'/corpora/abc/rural.txt') as fin:\n",
    "    rural_texts = [line.strip() for line in fin if line.strip()]\n",
    "with io.open(old_nltk_data+'/corpora/abc/science.txt', encoding='latin_1') as fin:\n",
    "    science_texts = [line.strip().encode('utf8').decode('utf8') for line in fin if \n",
    "                    line.strip().encode('utf8').decode('utf8')]\n",
    "\n",
    "rural_df = pd.DataFrame({'text':rural_texts})\n",
    "rural_df['subcorpora'] = 'Rural News'\n",
    "\n",
    "science_df = pd.DataFrame({'text':science_texts})\n",
    "science_df['subcorpora'] = 'Science News'\n",
    "\n",
    "df_abc = pd.concat([rural_df, science_df])\n",
    "df_abc.to_csv(new_nltk_data+'/corpora/abc/abc.tsv', sep='\\t', index=False)\n",
    "df_abc = pd.read_csv(new_nltk_data+'/corpora/abc/abc.tsv', sep='\\t', \n",
    "                     dtype={'text':str, 'subcorpora':str})\n",
    "\n",
    "abc_meta = {'title':'Australian Broadcasting Commission 2006',\n",
    "            'source': 'http://www.abc.net.au/',\n",
    "            'subcorpora': {'Rural News': {'source': 'http://www.abc.net.au/rural/news/'},\n",
    "                           'Science News': {'source': 'http://www.abc.net.au/science/news/'}\n",
    "                          },\n",
    "             'xml': {'id':'abc', 'name':\"Australian Broadcasting Commission 2006\",\n",
    "                     'webpage'=\"http://www.abc.net.au/\", 'author'=\"Australian Broadcasting Commission\",\n",
    "                      'unzip'=\"1\"}\n",
    "           }\n",
    "\n",
    "\n",
    "abc_xml = ET.Element(\"package\", id=\"abc\", name=\"Australian Broadcasting Commission 2006\",\n",
    "                  webpage=\"http://www.abc.net.au/\", author=\"Australian Broadcasting Commission\",\n",
    "                  unzip=\"1\")\n",
    "tree = ET.ElementTree(root)\n",
    "tree.write(new_nltk_data+'/corpora/abc/abc.xml')\n",
    "\n",
    "with open(new_nltk_data+'/corpora/abc/abc-meta.json', 'w') as fout:\n",
    "    json.dump(abc_meta, fout, sort_keys=True, indent=4, separators=(',', ': '))"
   ]
  },
  {
   "cell_type": "code",
   "execution_count": null,
   "metadata": {},
   "outputs": [],
   "source": []
  }
 ],
 "metadata": {
  "kernelspec": {
   "display_name": "Python 3",
   "language": "python",
   "name": "python3"
  },
  "language_info": {
   "codemirror_mode": {
    "name": "ipython",
    "version": 3
   },
   "file_extension": ".py",
   "mimetype": "text/x-python",
   "name": "python",
   "nbconvert_exporter": "python",
   "pygments_lexer": "ipython3",
   "version": "3.6.4rc1"
  }
 },
 "nbformat": 4,
 "nbformat_minor": 2
}
